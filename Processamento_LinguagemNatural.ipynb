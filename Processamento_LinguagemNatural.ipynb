{
  "nbformat": 4,
  "nbformat_minor": 0,
  "metadata": {
    "colab": {
      "name": "Processamento_LinguagemNatural.ipynb",
      "provenance": [],
      "collapsed_sections": [],
      "authorship_tag": "ABX9TyNOOwewwYaSdKWMm1LdhpYB",
      "include_colab_link": true
    },
    "kernelspec": {
      "name": "python3",
      "display_name": "Python 3"
    },
    "language_info": {
      "name": "python"
    }
  },
  "cells": [
    {
      "cell_type": "markdown",
      "metadata": {
        "id": "view-in-github",
        "colab_type": "text"
      },
      "source": [
        "<a href=\"https://colab.research.google.com/github/JazzGoncalves/PrimeirosPassos_DataScience/blob/main/Processamento_LinguagemNatural.ipynb\" target=\"_parent\"><img src=\"https://colab.research.google.com/assets/colab-badge.svg\" alt=\"Open In Colab\"/></a>"
      ]
    },
    {
      "cell_type": "code",
      "metadata": {
        "id": "cYcss-0-CscX",
        "colab": {
          "base_uri": "https://localhost:8080/"
        },
        "outputId": "312c713d-0232-46aa-a47e-ded73c2607f2"
      },
      "source": [
        "open(\"artigos.txt\", \"r\")"
      ],
      "execution_count": null,
      "outputs": [
        {
          "output_type": "execute_result",
          "data": {
            "text/plain": [
              "<_io.TextIOWrapper name='artigos.txt' mode='r' encoding='UTF-8'>"
            ]
          },
          "metadata": {},
          "execution_count": 54
        }
      ]
    },
    {
      "cell_type": "code",
      "metadata": {
        "colab": {
          "base_uri": "https://localhost:8080/"
        },
        "id": "NYUXybahFh5D",
        "outputId": "1d06621a-7876-47af-d0ab-b01bdbd2daab"
      },
      "source": [
        "with open(\"artigos.txt\", \"r\") as f:\n",
        "    artigos = f.read()\n",
        "\n",
        "print(artigos[:500])"
      ],
      "execution_count": null,
      "outputs": [
        {
          "output_type": "stream",
          "name": "stdout",
          "text": [
            "\n",
            "\n",
            "\n",
            "imagem \n",
            "\n",
            "Temos a seguinte classe que representa um usuário no nosso sistema:\n",
            "\n",
            "java\n",
            "\n",
            "Para salvar um novo usuário, várias validações são feitas, como por exemplo: Ver se o nome só contém letras, [**o CPF só números**] e ver se o usuário possui no mínimo 18 anos. Veja o método que faz essa validação:\n",
            "\n",
            "java \n",
            "\n",
            "Suponha agora que eu tenha outra classe, a classe `Produto`, que contém um atributo nome e eu quero fazer a mesma validação que fiz para o nome do usuário: Ver se só contém letras. E aí? Vou\n"
          ]
        }
      ]
    },
    {
      "cell_type": "code",
      "metadata": {
        "colab": {
          "base_uri": "https://localhost:8080/"
        },
        "id": "sdR86PR5Fu_Y",
        "outputId": "c99e6a80-e270-4c02-c024-cb612bcaa272"
      },
      "source": [
        "len(artigos)"
      ],
      "execution_count": null,
      "outputs": [
        {
          "output_type": "execute_result",
          "data": {
            "text/plain": [
              "2605046"
            ]
          },
          "metadata": {},
          "execution_count": 56
        }
      ]
    },
    {
      "cell_type": "code",
      "metadata": {
        "colab": {
          "base_uri": "https://localhost:8080/"
        },
        "id": "5x-BSm9UHU-K",
        "outputId": "1c2e1bf4-cf68-4991-ead6-ec9526078b99"
      },
      "source": [
        "len(\"Olá\")"
      ],
      "execution_count": null,
      "outputs": [
        {
          "output_type": "execute_result",
          "data": {
            "text/plain": [
              "3"
            ]
          },
          "metadata": {},
          "execution_count": 57
        }
      ]
    },
    {
      "cell_type": "code",
      "metadata": {
        "id": "DIoa2SmQI-dF"
      },
      "source": [
        "texto_exemplo = \"Olá, tudo bem?\"\n",
        "tokens = texto_exemplo.split()"
      ],
      "execution_count": null,
      "outputs": []
    },
    {
      "cell_type": "code",
      "metadata": {
        "colab": {
          "base_uri": "https://localhost:8080/"
        },
        "id": "gi4Qlm-nJJIf",
        "outputId": "3e36ac0e-a7f2-43cf-c79d-25df2f6715d2"
      },
      "source": [
        "print(tokens)"
      ],
      "execution_count": null,
      "outputs": [
        {
          "output_type": "stream",
          "name": "stdout",
          "text": [
            "['Olá,', 'tudo', 'bem?']\n"
          ]
        }
      ]
    },
    {
      "cell_type": "code",
      "metadata": {
        "colab": {
          "base_uri": "https://localhost:8080/"
        },
        "id": "XTiHXbvqJMcf",
        "outputId": "a543dd41-45ed-4096-ce16-c4e8d8f931e6"
      },
      "source": [
        "len(tokens)"
      ],
      "execution_count": null,
      "outputs": [
        {
          "output_type": "execute_result",
          "data": {
            "text/plain": [
              "3"
            ]
          },
          "metadata": {},
          "execution_count": 60
        }
      ]
    },
    {
      "cell_type": "code",
      "metadata": {
        "colab": {
          "base_uri": "https://localhost:8080/"
        },
        "id": "Ii35NziCKHsX",
        "outputId": "b0fecac1-23eb-426b-a604-3bf8710bdf3f"
      },
      "source": [
        "import nltk \n",
        "nltk.download('punkt')\n",
        "palavras_separadas = nltk.tokenize.word_tokenize(texto_exemplo)"
      ],
      "execution_count": null,
      "outputs": [
        {
          "output_type": "stream",
          "name": "stdout",
          "text": [
            "[nltk_data] Downloading package punkt to /root/nltk_data...\n",
            "[nltk_data]   Package punkt is already up-to-date!\n"
          ]
        }
      ]
    },
    {
      "cell_type": "code",
      "metadata": {
        "colab": {
          "base_uri": "https://localhost:8080/"
        },
        "id": "BIYd1kpZQLwU",
        "outputId": "46a7dbe0-cc50-47af-bb54-6cf392c4f64e"
      },
      "source": [
        "print(palavras_separadas)"
      ],
      "execution_count": null,
      "outputs": [
        {
          "output_type": "stream",
          "name": "stdout",
          "text": [
            "['Olá', ',', 'tudo', 'bem', '?']\n"
          ]
        }
      ]
    },
    {
      "cell_type": "code",
      "metadata": {
        "id": "vjq-Wse1QPOK"
      },
      "source": [
        "def separa_apalavras(lista_tokens):\n",
        "    return lista_palavras"
      ],
      "execution_count": null,
      "outputs": []
    },
    {
      "cell_type": "code",
      "metadata": {
        "colab": {
          "base_uri": "https://localhost:8080/"
        },
        "id": "2m2cIIKERYkK",
        "outputId": "b2ad03d6-743f-4ba3-a612-5eec2a68a36b"
      },
      "source": [
        "def separa_palavras(lista_tokens):\n",
        "    lista_palavras = []\n",
        "    for token in lista_tokens:\n",
        "        if token.isalpha():\n",
        "            lista_palavras.append(token)\n",
        "    return lista_palavras\n",
        "\n",
        "separa_palavras(palavras_separadas)"
      ],
      "execution_count": null,
      "outputs": [
        {
          "output_type": "execute_result",
          "data": {
            "text/plain": [
              "['Olá', 'tudo', 'bem']"
            ]
          },
          "metadata": {},
          "execution_count": 64
        }
      ]
    },
    {
      "cell_type": "code",
      "metadata": {
        "colab": {
          "base_uri": "https://localhost:8080/"
        },
        "id": "6U-S4U-9RwAK",
        "outputId": "fa29cdbb-bfd8-4c06-e81a-c726309aeb41"
      },
      "source": [
        "lista_tokens = nltk.tokenize.word_tokenize(artigos)\n",
        "lista_palavras = separa_palavras(lista_tokens)\n",
        "print(f\"O número de palavras é {len(lista_tokens)}\")"
      ],
      "execution_count": null,
      "outputs": [
        {
          "output_type": "stream",
          "name": "stdout",
          "text": [
            "O número de palavras é 490772\n"
          ]
        }
      ]
    },
    {
      "cell_type": "code",
      "metadata": {
        "colab": {
          "base_uri": "https://localhost:8080/"
        },
        "id": "Jh_AfO4pXQNC",
        "outputId": "c6b2693d-bb0d-44ec-d7d9-ffce087bbc53"
      },
      "source": [
        "print(lista_palavras[:5])"
      ],
      "execution_count": null,
      "outputs": [
        {
          "output_type": "stream",
          "name": "stdout",
          "text": [
            "['imagem', 'Temos', 'a', 'seguinte', 'classe']\n"
          ]
        }
      ]
    },
    {
      "cell_type": "code",
      "metadata": {
        "colab": {
          "base_uri": "https://localhost:8080/"
        },
        "id": "3dwhTRi2XQG8",
        "outputId": "4dfe9c83-2b9a-4c27-d381-7ab215ec880f"
      },
      "source": [
        "def normalizacao(lista_palavras):\n",
        "    lista_normalizada = []\n",
        "    for palavra in lista_palavras:\n",
        "        lista_normalizada.append(palavra.lower())\n",
        "    return lista_normalizada\n",
        "\n",
        "lista_normalizada = normalizacao(lista_palavras)\n",
        "print(lista_normalizada[:5])"
      ],
      "execution_count": null,
      "outputs": [
        {
          "output_type": "stream",
          "name": "stdout",
          "text": [
            "['imagem', 'temos', 'a', 'seguinte', 'classe']\n"
          ]
        }
      ]
    },
    {
      "cell_type": "code",
      "metadata": {
        "colab": {
          "base_uri": "https://localhost:8080/"
        },
        "id": "JKF03iRcZQz_",
        "outputId": "aa67249f-7923-4b48-c652-92f0fdc42db6"
      },
      "source": [
        "set([1, 2, 3, 3, 3, 3, 4, 5, 6])"
      ],
      "execution_count": null,
      "outputs": [
        {
          "output_type": "execute_result",
          "data": {
            "text/plain": [
              "{1, 2, 3, 4, 5, 6}"
            ]
          },
          "metadata": {},
          "execution_count": 68
        }
      ]
    },
    {
      "cell_type": "code",
      "metadata": {
        "colab": {
          "base_uri": "https://localhost:8080/"
        },
        "id": "5X5FgSVaZouw",
        "outputId": "4ac0c173-0b82-44f7-81df-41e5b568b450"
      },
      "source": [
        "len(set(lista_normalizada))"
      ],
      "execution_count": null,
      "outputs": [
        {
          "output_type": "execute_result",
          "data": {
            "text/plain": [
              "17652"
            ]
          },
          "metadata": {},
          "execution_count": 69
        }
      ]
    },
    {
      "cell_type": "code",
      "metadata": {
        "colab": {
          "base_uri": "https://localhost:8080/"
        },
        "id": "3KEK13v2elOj",
        "outputId": "925d8c44-8686-4ba2-a32b-670820fa5ee4"
      },
      "source": [
        "lista = [1,2,3]\n",
        "lista[0]"
      ],
      "execution_count": null,
      "outputs": [
        {
          "output_type": "execute_result",
          "data": {
            "text/plain": [
              "1"
            ]
          },
          "metadata": {},
          "execution_count": 70
        }
      ]
    },
    {
      "cell_type": "code",
      "metadata": {
        "colab": {
          "base_uri": "https://localhost:8080/"
        },
        "id": "Mh0dkfrYepD3",
        "outputId": "05951834-cbac-4b0e-d344-18b41395a23c"
      },
      "source": [
        "lista = [1,2,3]\n",
        "lista[1:3]"
      ],
      "execution_count": null,
      "outputs": [
        {
          "output_type": "execute_result",
          "data": {
            "text/plain": [
              "[2, 3]"
            ]
          },
          "metadata": {},
          "execution_count": 71
        }
      ]
    },
    {
      "cell_type": "code",
      "metadata": {
        "colab": {
          "base_uri": "https://localhost:8080/",
          "height": 35
        },
        "id": "hsy2wSgoesG-",
        "outputId": "d33f4e16-d9bd-44ed-b9cd-d2f60ac7857f"
      },
      "source": [
        "lista = \"lgica\"\n",
        "lista[1:2]"
      ],
      "execution_count": null,
      "outputs": [
        {
          "output_type": "execute_result",
          "data": {
            "application/vnd.google.colaboratory.intrinsic+json": {
              "type": "string"
            },
            "text/plain": [
              "'g'"
            ]
          },
          "metadata": {},
          "execution_count": 72
        }
      ]
    },
    {
      "cell_type": "code",
      "metadata": {
        "colab": {
          "base_uri": "https://localhost:8080/"
        },
        "id": "at-jToV9eusJ",
        "outputId": "2be8e333-2760-490e-e8e9-0e9e61abd8ad"
      },
      "source": [
        "lista = \"lgica\"\n",
        "(lista[:1],lista[1:])"
      ],
      "execution_count": null,
      "outputs": [
        {
          "output_type": "execute_result",
          "data": {
            "text/plain": [
              "('l', 'gica')"
            ]
          },
          "metadata": {},
          "execution_count": 73
        }
      ]
    },
    {
      "cell_type": "code",
      "metadata": {
        "colab": {
          "base_uri": "https://localhost:8080/"
        },
        "id": "sJVRhYRreiTP",
        "outputId": "9949d784-a956-465c-e71a-b7beaf63a19a"
      },
      "source": [
        "palavra_exemplo = \"lgica\"\n",
        "\n",
        "def insere_letras(fatias):\n",
        "    novas_palavras = []\n",
        "    letras = 'abcdefghijklmnopqrstuvwxyzàáâãèéêìíîòóôõùúûç'\n",
        "    for E, D in fatias:\n",
        "        for letra in letras:\n",
        "            novas_palavras.append(E + letra + D)\n",
        "    return novas_palavras\n",
        "\n",
        "def gerador_palavras(palavra):\n",
        "    fatias = []\n",
        "    for i in range(len(palavra)+1):\n",
        "        fatias.append((palavra[:i],palavra[i:]))\n",
        "    palavras_geradas = insere_letras(fatias)\n",
        "    return palavras_geradas\n",
        "\n",
        "palavras_geradas = gerador_palavras(palavra_exemplo)\n",
        "print(palavras_geradas)\n"
      ],
      "execution_count": null,
      "outputs": [
        {
          "output_type": "stream",
          "name": "stdout",
          "text": [
            "['algica', 'blgica', 'clgica', 'dlgica', 'elgica', 'flgica', 'glgica', 'hlgica', 'ilgica', 'jlgica', 'klgica', 'llgica', 'mlgica', 'nlgica', 'olgica', 'plgica', 'qlgica', 'rlgica', 'slgica', 'tlgica', 'ulgica', 'vlgica', 'wlgica', 'xlgica', 'ylgica', 'zlgica', 'àlgica', 'álgica', 'âlgica', 'ãlgica', 'èlgica', 'élgica', 'êlgica', 'ìlgica', 'ílgica', 'îlgica', 'òlgica', 'ólgica', 'ôlgica', 'õlgica', 'ùlgica', 'úlgica', 'ûlgica', 'çlgica', 'lagica', 'lbgica', 'lcgica', 'ldgica', 'legica', 'lfgica', 'lggica', 'lhgica', 'ligica', 'ljgica', 'lkgica', 'llgica', 'lmgica', 'lngica', 'logica', 'lpgica', 'lqgica', 'lrgica', 'lsgica', 'ltgica', 'lugica', 'lvgica', 'lwgica', 'lxgica', 'lygica', 'lzgica', 'làgica', 'lágica', 'lâgica', 'lãgica', 'lègica', 'légica', 'lêgica', 'lìgica', 'lígica', 'lîgica', 'lògica', 'lógica', 'lôgica', 'lõgica', 'lùgica', 'lúgica', 'lûgica', 'lçgica', 'lgaica', 'lgbica', 'lgcica', 'lgdica', 'lgeica', 'lgfica', 'lggica', 'lghica', 'lgiica', 'lgjica', 'lgkica', 'lglica', 'lgmica', 'lgnica', 'lgoica', 'lgpica', 'lgqica', 'lgrica', 'lgsica', 'lgtica', 'lguica', 'lgvica', 'lgwica', 'lgxica', 'lgyica', 'lgzica', 'lgàica', 'lgáica', 'lgâica', 'lgãica', 'lgèica', 'lgéica', 'lgêica', 'lgìica', 'lgíica', 'lgîica', 'lgòica', 'lgóica', 'lgôica', 'lgõica', 'lgùica', 'lgúica', 'lgûica', 'lgçica', 'lgiaca', 'lgibca', 'lgicca', 'lgidca', 'lgieca', 'lgifca', 'lgigca', 'lgihca', 'lgiica', 'lgijca', 'lgikca', 'lgilca', 'lgimca', 'lginca', 'lgioca', 'lgipca', 'lgiqca', 'lgirca', 'lgisca', 'lgitca', 'lgiuca', 'lgivca', 'lgiwca', 'lgixca', 'lgiyca', 'lgizca', 'lgiàca', 'lgiáca', 'lgiâca', 'lgiãca', 'lgièca', 'lgiéca', 'lgiêca', 'lgiìca', 'lgiíca', 'lgiîca', 'lgiòca', 'lgióca', 'lgiôca', 'lgiõca', 'lgiùca', 'lgiúca', 'lgiûca', 'lgiçca', 'lgicaa', 'lgicba', 'lgicca', 'lgicda', 'lgicea', 'lgicfa', 'lgicga', 'lgicha', 'lgicia', 'lgicja', 'lgicka', 'lgicla', 'lgicma', 'lgicna', 'lgicoa', 'lgicpa', 'lgicqa', 'lgicra', 'lgicsa', 'lgicta', 'lgicua', 'lgicva', 'lgicwa', 'lgicxa', 'lgicya', 'lgicza', 'lgicàa', 'lgicáa', 'lgicâa', 'lgicãa', 'lgicèa', 'lgicéa', 'lgicêa', 'lgicìa', 'lgicía', 'lgicîa', 'lgicòa', 'lgicóa', 'lgicôa', 'lgicõa', 'lgicùa', 'lgicúa', 'lgicûa', 'lgicça', 'lgicaa', 'lgicab', 'lgicac', 'lgicad', 'lgicae', 'lgicaf', 'lgicag', 'lgicah', 'lgicai', 'lgicaj', 'lgicak', 'lgical', 'lgicam', 'lgican', 'lgicao', 'lgicap', 'lgicaq', 'lgicar', 'lgicas', 'lgicat', 'lgicau', 'lgicav', 'lgicaw', 'lgicax', 'lgicay', 'lgicaz', 'lgicaà', 'lgicaá', 'lgicaâ', 'lgicaã', 'lgicaè', 'lgicaé', 'lgicaê', 'lgicaì', 'lgicaí', 'lgicaî', 'lgicaò', 'lgicaó', 'lgicaô', 'lgicaõ', 'lgicaù', 'lgicaú', 'lgicaû', 'lgicaç']\n"
          ]
        }
      ]
    },
    {
      "cell_type": "code",
      "metadata": {
        "id": "a0zYy8rMj1aY"
      },
      "source": [
        "def corretor(palavra):\n",
        "    palavras_geradas = gerador_palavras(palavra)\n",
        "    palavra_correta = max(palavras_geradas, key=probabilidade)\n",
        "    return palavra_correta"
      ],
      "execution_count": null,
      "outputs": []
    },
    {
      "cell_type": "code",
      "metadata": {
        "colab": {
          "base_uri": "https://localhost:8080/"
        },
        "id": "RA2eRZfwzbDL",
        "outputId": "ef305729-724c-413b-c734-8a3f9e0c266e"
      },
      "source": [
        "frequencia = nltk.FreqDist(lista_normalizada)\n",
        "frequencia.most_common(10)"
      ],
      "execution_count": null,
      "outputs": [
        {
          "output_type": "execute_result",
          "data": {
            "text/plain": [
              "[('de', 15494),\n",
              " ('o', 13966),\n",
              " ('que', 12225),\n",
              " ('a', 11034),\n",
              " ('e', 10478),\n",
              " ('para', 7694),\n",
              " ('um', 6346),\n",
              " ('é', 5881),\n",
              " ('uma', 5202),\n",
              " ('do', 5116)]"
            ]
          },
          "metadata": {},
          "execution_count": 76
        }
      ]
    },
    {
      "cell_type": "code",
      "metadata": {
        "colab": {
          "base_uri": "https://localhost:8080/"
        },
        "id": "0pgphbGy1FNJ",
        "outputId": "d449112b-2a2c-4376-a17b-0a1044db9977"
      },
      "source": [
        "frequencia[\"lógica\"]"
      ],
      "execution_count": null,
      "outputs": [
        {
          "output_type": "execute_result",
          "data": {
            "text/plain": [
              "87"
            ]
          },
          "metadata": {},
          "execution_count": 77
        }
      ]
    },
    {
      "cell_type": "code",
      "metadata": {
        "id": "I72Qf4gR16d2"
      },
      "source": [
        "total_palavras = len(lista_normalizada)"
      ],
      "execution_count": null,
      "outputs": []
    },
    {
      "cell_type": "code",
      "metadata": {
        "colab": {
          "base_uri": "https://localhost:8080/"
        },
        "id": "BYYTRV1p1hiA",
        "outputId": "8024b995-3412-4c87-b9d4-19e654008d54"
      },
      "source": [
        "def probabilidade(palavra_gerada):\n",
        "    return frequencia[palavra_gerada]/total_palavras\n",
        "\n",
        "probabilidade(\"lógica\")"
      ],
      "execution_count": null,
      "outputs": [
        {
          "output_type": "execute_result",
          "data": {
            "text/plain": [
              "0.00022086039084673304"
            ]
          },
          "metadata": {},
          "execution_count": 79
        }
      ]
    },
    {
      "cell_type": "code",
      "metadata": {
        "colab": {
          "base_uri": "https://localhost:8080/"
        },
        "id": "A6TL_CZ31sWx",
        "outputId": "6c768969-52e6-4cfa-fa17-5e6183fb1c6c"
      },
      "source": [
        "probabilidade(\"lagica\")"
      ],
      "execution_count": null,
      "outputs": [
        {
          "output_type": "execute_result",
          "data": {
            "text/plain": [
              "0.0"
            ]
          },
          "metadata": {},
          "execution_count": 80
        }
      ]
    },
    {
      "cell_type": "code",
      "metadata": {
        "colab": {
          "base_uri": "https://localhost:8080/"
        },
        "id": "l6eGU23F2b_A",
        "outputId": "107ee9a4-a2ca-4694-af80-33564f7a1675"
      },
      "source": [
        "probabilidade(\"logica\")"
      ],
      "execution_count": null,
      "outputs": [
        {
          "output_type": "execute_result",
          "data": {
            "text/plain": [
              "0.0"
            ]
          },
          "metadata": {},
          "execution_count": 81
        }
      ]
    },
    {
      "cell_type": "code",
      "metadata": {
        "colab": {
          "base_uri": "https://localhost:8080/",
          "height": 35
        },
        "id": "Y34VOQ6O2fDp",
        "outputId": "93c678c4-963c-4560-8e9a-9ab5bc917c86"
      },
      "source": [
        "corretor(palavra_exemplo)"
      ],
      "execution_count": null,
      "outputs": [
        {
          "output_type": "execute_result",
          "data": {
            "application/vnd.google.colaboratory.intrinsic+json": {
              "type": "string"
            },
            "text/plain": [
              "'lógica'"
            ]
          },
          "metadata": {},
          "execution_count": 82
        }
      ]
    },
    {
      "cell_type": "code",
      "metadata": {
        "colab": {
          "base_uri": "https://localhost:8080/"
        },
        "id": "r1yXZHHT2umw",
        "outputId": "42fbc92e-41a7-40e7-c9d9-849c4927c4a7"
      },
      "source": [
        "def cria_dados_teste(nome_arquivo):\n",
        "    lista_palavras_teste = []\n",
        "    f = open(nome_arquivo, \"r\")\n",
        "    for linha in f:\n",
        "        correta, errada = linha.split()\n",
        "        lista_palavras_teste.append((correta, errada))\n",
        "    f.close()\n",
        "    return lista_palavras_teste\n",
        "\n",
        "lista_teste = cria_dados_teste(\"palavras.txt\")\n",
        "lista_teste\n"
      ],
      "execution_count": null,
      "outputs": [
        {
          "output_type": "execute_result",
          "data": {
            "text/plain": [
              "[('podemos', 'pyodemos'),\n",
              " ('esse', 'esje'),\n",
              " ('já', 'jrá'),\n",
              " ('nosso', 'nossov'),\n",
              " ('são', 'sãêo'),\n",
              " ('dos', 'dosa'),\n",
              " ('muito', 'muifo'),\n",
              " ('imagem', 'iômagem'),\n",
              " ('sua', 'ósua'),\n",
              " ('também', 'tambéùm'),\n",
              " ('ele', 'eme'),\n",
              " ('fazer', 'èazer'),\n",
              " ('temos', 'temfs'),\n",
              " ('essa', 'eàssa'),\n",
              " ('quando', 'quaôdo'),\n",
              " ('vamos', 'vamvos'),\n",
              " ('sobre', 'hsobre'),\n",
              " ('java', 'sjava'),\n",
              " ('das', 'daõs'),\n",
              " ('agora', 'agorah'),\n",
              " ('está', 'eòtá'),\n",
              " ('cada', 'céda'),\n",
              " ('mesmo', 'zmesmo'),\n",
              " ('nos', 'noâ'),\n",
              " ('forma', 'fobma'),\n",
              " ('seja', 'sejéa'),\n",
              " ('então', 'enêão'),\n",
              " ('criar', 'èriar'),\n",
              " ('código', 'cóeigo'),\n",
              " ('caso', 'casío'),\n",
              " ('exemplo', 'áexemplo'),\n",
              " ('tem', 'tĩem'),\n",
              " ('usuário', 'usuárôio'),\n",
              " ('dados', 'dfados'),\n",
              " ('python', 'pgthon'),\n",
              " ('nossa', 'nossah'),\n",
              " ('além', 'alémè'),\n",
              " ('assim', 'asõim'),\n",
              " ('ter', 'teb'),\n",
              " ('até', 'atĩ'),\n",
              " ('bem', 'âem'),\n",
              " ('design', 'desigen'),\n",
              " ('trabalho', 'trabalàho'),\n",
              " ('foi', 'foo'),\n",
              " ('apenas', 'apenaũ'),\n",
              " ('empresa', 'empresà'),\n",
              " ('valor', 'valíor'),\n",
              " ('será', 'serr'),\n",
              " ('entre', 'entke'),\n",
              " ('método', 'méqodo'),\n",
              " ('precisamos', 'precisamops'),\n",
              " ('ainda', 'ainàa'),\n",
              " ('vai', 'van'),\n",
              " ('conteúdo', 'ûconteúdo'),\n",
              " ('seus', 'çeus'),\n",
              " ('eu', 'eû'),\n",
              " ('todos', 'todtos'),\n",
              " ('tempo', 'temeo'),\n",
              " ('sempre', 'semre'),\n",
              " ('qual', 'quakl'),\n",
              " ('ela', 'elaá'),\n",
              " ('só', 'síó'),\n",
              " ('utilizar', 'utiqizar'),\n",
              " ('projeto', 'prhojeto'),\n",
              " ('site', 'siàe'),\n",
              " ('sem', 'seém'),\n",
              " ('pelo', 'peln'),\n",
              " ('alura', 'aléra'),\n",
              " ('dia', 'tdia'),\n",
              " ('tudo', 'tuúo'),\n",
              " ('podemos', 'kpodemos'),\n",
              " ('esse', 'eẽsse'),\n",
              " ('já', 'jé'),\n",
              " ('nosso', 'nçosso'),\n",
              " ('são', 'sãô'),\n",
              " ('dos', 'odos'),\n",
              " ('muito', 'tuito'),\n",
              " ('imagem', 'imõgem'),\n",
              " ('sua', 'siua'),\n",
              " ('também', 'tamvbém'),\n",
              " ('ele', 'elpe'),\n",
              " ('fazer', 'façzer'),\n",
              " ('temos', 'teos'),\n",
              " ('essa', 'eũsa'),\n",
              " ('quando', 'quaìdo'),\n",
              " ('vamos', 'vjmos'),\n",
              " ('sobre', 'sxobre'),\n",
              " ('java', 'jkva'),\n",
              " ('das', 'dms'),\n",
              " ('agora', 'agtora'),\n",
              " ('está', 'esútá'),\n",
              " ('cada', 'cava'),\n",
              " ('mesmo', 'medmo'),\n",
              " ('nos', 'ános'),\n",
              " ('forma', 'forûa'),\n",
              " ('seja', 'smeja'),\n",
              " ('então', 'enjtão'),\n",
              " ('criar', 'criôar'),\n",
              " ('código', 'cóàigo'),\n",
              " ('caso', 'èaso'),\n",
              " ('exemplo', 'exbemplo'),\n",
              " ('tem', 'túem'),\n",
              " ('usuário', 'usuárin'),\n",
              " ('dados', 'daáos'),\n",
              " ('python', 'pythoçn'),\n",
              " ('nossa', 'nossk'),\n",
              " ('além', 'âlém'),\n",
              " ('assim', 'aóssim'),\n",
              " ('ter', 'tãer'),\n",
              " ('até', 'vté'),\n",
              " ('bem', 'búm'),\n",
              " ('design', 'íesign'),\n",
              " ('trabalho', 'trabèalho'),\n",
              " ('foi', 'kfoi'),\n",
              " ('apenas', 'aapenas'),\n",
              " ('empresa', 'pmpresa'),\n",
              " ('valor', 'valoqr'),\n",
              " ('será', 'sçerá'),\n",
              " ('entre', 'entró'),\n",
              " ('método', 'nétodo'),\n",
              " ('precisamos', 'prefcisamos'),\n",
              " ('ainda', 'sainda'),\n",
              " ('vai', 'uai'),\n",
              " ('conteúdo', 'cĩonteúdo'),\n",
              " ('seus', 'sâus'),\n",
              " ('eu', 'ìeu'),\n",
              " ('todos', 'todás'),\n",
              " ('tempo', 'utempo'),\n",
              " ('sempre', 'sempce'),\n",
              " ('qual', 'fual'),\n",
              " ('ela', 'elal'),\n",
              " ('só', 'skó'),\n",
              " ('utilizar', 'utilĩzar'),\n",
              " ('projeto', 'proójeto'),\n",
              " ('site', 'isite'),\n",
              " ('sem', 'secm'),\n",
              " ('pelo', 'pẽlo'),\n",
              " ('alura', 'aluéa'),\n",
              " ('dia', 'dil'),\n",
              " ('tudo', 'tudy'),\n",
              " ('ela', 'qelay'),\n",
              " ('só', 'sód'),\n",
              " ('utilizar', 'dtilizacr'),\n",
              " ('projeto', 'bprojõto'),\n",
              " ('site', 'ysiteo'),\n",
              " ('sem', 'sõêm'),\n",
              " ('pelo', 'peàli'),\n",
              " ('alura', 'asuraó'),\n",
              " ('dia', 'deiìa'),\n",
              " ('tudo', 'tuĩdoì'),\n",
              " ('ela', 'eúaa'),\n",
              " ('só', 'ró'),\n",
              " ('utilizar', 'utilizẽaçr'),\n",
              " ('projeto', 'prêjetó'),\n",
              " ('site', 'sqiqte'),\n",
              " ('sem', 'sũexm'),\n",
              " ('pelo', 'pçlxo'),\n",
              " ('alura', 'uluraa'),\n",
              " ('dia', 'dĩaz'),\n",
              " ('tudo', 'kzudo'),\n",
              " ('corretor', 'correptor'),\n",
              " ('tática', 'trtica'),\n",
              " ('empoderamento', 'ewpoderamento'),\n",
              " ('linux', 'lifux'),\n",
              " ('cachorro', 'cachoçro'),\n",
              " ('gato', 'îgato'),\n",
              " ('cavalo', 'cakvalo'),\n",
              " ('relógio', 'relógiuo'),\n",
              " ('canela', 'canelac'),\n",
              " ('tênis', 'tênisy'),\n",
              " ('ansiosa', 'anciosa'),\n",
              " ('ansiosa', 'ancciosa'),\n",
              " ('ansiosa', 'ansioa'),\n",
              " ('empoderamento', 'empoderamento'),\n",
              " ('asterisco', 'asterístico'),\n",
              " ('gratuito', 'gratuíto'),\n",
              " ('entretido', 'entertido'),\n",
              " ('ritmo', 'ritimo'),\n",
              " ('idiota', 'indiota'),\n",
              " ('tomara', 'tomare'),\n",
              " ('seja', 'seje'),\n",
              " ('prevalecer', 'provalecer'),\n",
              " ('esteja', 'esteje'),\n",
              " ('mendigo', 'mindigo'),\n",
              " ('cérebro', 'célebro'),\n",
              " ('perturbar', 'pertubar')]"
            ]
          },
          "metadata": {},
          "execution_count": 83
        }
      ]
    },
    {
      "cell_type": "code",
      "metadata": {
        "colab": {
          "base_uri": "https://localhost:8080/"
        },
        "id": "Gu85BTfn-mJ6",
        "outputId": "d3127064-62a1-4c4f-93f1-ae6f1f7509ba"
      },
      "source": [
        "def avaliador (testes):\n",
        "    numero_palavras = len(testes)\n",
        "    acertou = 0\n",
        "    for correta, errada in testes:\n",
        "        palavra_corrigida = corretor(errada)\n",
        "        if palavra_corrigida == correta:\n",
        "            acertou += 1\n",
        "    taxa_acerto = round(acertou*100/numero_palavras, 2)\n",
        "    print(f\"{taxa_acerto}% de {numero_palavras} palavras\")\n",
        "\n",
        "avaliador(lista_teste)"
      ],
      "execution_count": null,
      "outputs": [
        {
          "output_type": "stream",
          "name": "stdout",
          "text": [
            "1.08% de 186 palavras\n"
          ]
        }
      ]
    },
    {
      "cell_type": "code",
      "metadata": {
        "colab": {
          "base_uri": "https://localhost:8080/",
          "height": 35
        },
        "id": "yX7kVHZuFsXr",
        "outputId": "dbdae081-12f8-4086-d81a-09d1e6565e55"
      },
      "source": [
        "corretor(\"lgica\")"
      ],
      "execution_count": null,
      "outputs": [
        {
          "output_type": "execute_result",
          "data": {
            "application/vnd.google.colaboratory.intrinsic+json": {
              "type": "string"
            },
            "text/plain": [
              "'lógica'"
            ]
          },
          "metadata": {},
          "execution_count": 85
        }
      ]
    },
    {
      "cell_type": "code",
      "metadata": {
        "colab": {
          "base_uri": "https://localhost:8080/"
        },
        "id": "YnAUnICgHRzs",
        "outputId": "15c51f15-804e-48b9-a607-5f4cb9988b03"
      },
      "source": [
        "gerador_palavras(\"lóigica\")"
      ],
      "execution_count": null,
      "outputs": [
        {
          "output_type": "execute_result",
          "data": {
            "text/plain": [
              "['alóigica',\n",
              " 'blóigica',\n",
              " 'clóigica',\n",
              " 'dlóigica',\n",
              " 'elóigica',\n",
              " 'flóigica',\n",
              " 'glóigica',\n",
              " 'hlóigica',\n",
              " 'ilóigica',\n",
              " 'jlóigica',\n",
              " 'klóigica',\n",
              " 'llóigica',\n",
              " 'mlóigica',\n",
              " 'nlóigica',\n",
              " 'olóigica',\n",
              " 'plóigica',\n",
              " 'qlóigica',\n",
              " 'rlóigica',\n",
              " 'slóigica',\n",
              " 'tlóigica',\n",
              " 'ulóigica',\n",
              " 'vlóigica',\n",
              " 'wlóigica',\n",
              " 'xlóigica',\n",
              " 'ylóigica',\n",
              " 'zlóigica',\n",
              " 'àlóigica',\n",
              " 'álóigica',\n",
              " 'âlóigica',\n",
              " 'ãlóigica',\n",
              " 'èlóigica',\n",
              " 'élóigica',\n",
              " 'êlóigica',\n",
              " 'ìlóigica',\n",
              " 'ílóigica',\n",
              " 'îlóigica',\n",
              " 'òlóigica',\n",
              " 'ólóigica',\n",
              " 'ôlóigica',\n",
              " 'õlóigica',\n",
              " 'ùlóigica',\n",
              " 'úlóigica',\n",
              " 'ûlóigica',\n",
              " 'çlóigica',\n",
              " 'laóigica',\n",
              " 'lbóigica',\n",
              " 'lcóigica',\n",
              " 'ldóigica',\n",
              " 'leóigica',\n",
              " 'lfóigica',\n",
              " 'lgóigica',\n",
              " 'lhóigica',\n",
              " 'lióigica',\n",
              " 'ljóigica',\n",
              " 'lkóigica',\n",
              " 'llóigica',\n",
              " 'lmóigica',\n",
              " 'lnóigica',\n",
              " 'loóigica',\n",
              " 'lpóigica',\n",
              " 'lqóigica',\n",
              " 'lróigica',\n",
              " 'lsóigica',\n",
              " 'ltóigica',\n",
              " 'luóigica',\n",
              " 'lvóigica',\n",
              " 'lwóigica',\n",
              " 'lxóigica',\n",
              " 'lyóigica',\n",
              " 'lzóigica',\n",
              " 'làóigica',\n",
              " 'láóigica',\n",
              " 'lâóigica',\n",
              " 'lãóigica',\n",
              " 'lèóigica',\n",
              " 'léóigica',\n",
              " 'lêóigica',\n",
              " 'lìóigica',\n",
              " 'líóigica',\n",
              " 'lîóigica',\n",
              " 'lòóigica',\n",
              " 'lóóigica',\n",
              " 'lôóigica',\n",
              " 'lõóigica',\n",
              " 'lùóigica',\n",
              " 'lúóigica',\n",
              " 'lûóigica',\n",
              " 'lçóigica',\n",
              " 'lóaigica',\n",
              " 'lóbigica',\n",
              " 'lócigica',\n",
              " 'lódigica',\n",
              " 'lóeigica',\n",
              " 'lófigica',\n",
              " 'lógigica',\n",
              " 'lóhigica',\n",
              " 'lóiigica',\n",
              " 'lójigica',\n",
              " 'lókigica',\n",
              " 'lóligica',\n",
              " 'lómigica',\n",
              " 'lónigica',\n",
              " 'lóoigica',\n",
              " 'lópigica',\n",
              " 'lóqigica',\n",
              " 'lórigica',\n",
              " 'lósigica',\n",
              " 'lótigica',\n",
              " 'lóuigica',\n",
              " 'lóvigica',\n",
              " 'lówigica',\n",
              " 'lóxigica',\n",
              " 'lóyigica',\n",
              " 'lózigica',\n",
              " 'lóàigica',\n",
              " 'lóáigica',\n",
              " 'lóâigica',\n",
              " 'lóãigica',\n",
              " 'lóèigica',\n",
              " 'lóéigica',\n",
              " 'lóêigica',\n",
              " 'lóìigica',\n",
              " 'lóíigica',\n",
              " 'lóîigica',\n",
              " 'lóòigica',\n",
              " 'lóóigica',\n",
              " 'lóôigica',\n",
              " 'lóõigica',\n",
              " 'lóùigica',\n",
              " 'lóúigica',\n",
              " 'lóûigica',\n",
              " 'lóçigica',\n",
              " 'lóiagica',\n",
              " 'lóibgica',\n",
              " 'lóicgica',\n",
              " 'lóidgica',\n",
              " 'lóiegica',\n",
              " 'lóifgica',\n",
              " 'lóiggica',\n",
              " 'lóihgica',\n",
              " 'lóiigica',\n",
              " 'lóijgica',\n",
              " 'lóikgica',\n",
              " 'lóilgica',\n",
              " 'lóimgica',\n",
              " 'lóingica',\n",
              " 'lóiogica',\n",
              " 'lóipgica',\n",
              " 'lóiqgica',\n",
              " 'lóirgica',\n",
              " 'lóisgica',\n",
              " 'lóitgica',\n",
              " 'lóiugica',\n",
              " 'lóivgica',\n",
              " 'lóiwgica',\n",
              " 'lóixgica',\n",
              " 'lóiygica',\n",
              " 'lóizgica',\n",
              " 'lóiàgica',\n",
              " 'lóiágica',\n",
              " 'lóiâgica',\n",
              " 'lóiãgica',\n",
              " 'lóiègica',\n",
              " 'lóiégica',\n",
              " 'lóiêgica',\n",
              " 'lóiìgica',\n",
              " 'lóiígica',\n",
              " 'lóiîgica',\n",
              " 'lóiògica',\n",
              " 'lóiógica',\n",
              " 'lóiôgica',\n",
              " 'lóiõgica',\n",
              " 'lóiùgica',\n",
              " 'lóiúgica',\n",
              " 'lóiûgica',\n",
              " 'lóiçgica',\n",
              " 'lóigaica',\n",
              " 'lóigbica',\n",
              " 'lóigcica',\n",
              " 'lóigdica',\n",
              " 'lóigeica',\n",
              " 'lóigfica',\n",
              " 'lóiggica',\n",
              " 'lóighica',\n",
              " 'lóigiica',\n",
              " 'lóigjica',\n",
              " 'lóigkica',\n",
              " 'lóiglica',\n",
              " 'lóigmica',\n",
              " 'lóignica',\n",
              " 'lóigoica',\n",
              " 'lóigpica',\n",
              " 'lóigqica',\n",
              " 'lóigrica',\n",
              " 'lóigsica',\n",
              " 'lóigtica',\n",
              " 'lóiguica',\n",
              " 'lóigvica',\n",
              " 'lóigwica',\n",
              " 'lóigxica',\n",
              " 'lóigyica',\n",
              " 'lóigzica',\n",
              " 'lóigàica',\n",
              " 'lóigáica',\n",
              " 'lóigâica',\n",
              " 'lóigãica',\n",
              " 'lóigèica',\n",
              " 'lóigéica',\n",
              " 'lóigêica',\n",
              " 'lóigìica',\n",
              " 'lóigíica',\n",
              " 'lóigîica',\n",
              " 'lóigòica',\n",
              " 'lóigóica',\n",
              " 'lóigôica',\n",
              " 'lóigõica',\n",
              " 'lóigùica',\n",
              " 'lóigúica',\n",
              " 'lóigûica',\n",
              " 'lóigçica',\n",
              " 'lóigiaca',\n",
              " 'lóigibca',\n",
              " 'lóigicca',\n",
              " 'lóigidca',\n",
              " 'lóigieca',\n",
              " 'lóigifca',\n",
              " 'lóigigca',\n",
              " 'lóigihca',\n",
              " 'lóigiica',\n",
              " 'lóigijca',\n",
              " 'lóigikca',\n",
              " 'lóigilca',\n",
              " 'lóigimca',\n",
              " 'lóiginca',\n",
              " 'lóigioca',\n",
              " 'lóigipca',\n",
              " 'lóigiqca',\n",
              " 'lóigirca',\n",
              " 'lóigisca',\n",
              " 'lóigitca',\n",
              " 'lóigiuca',\n",
              " 'lóigivca',\n",
              " 'lóigiwca',\n",
              " 'lóigixca',\n",
              " 'lóigiyca',\n",
              " 'lóigizca',\n",
              " 'lóigiàca',\n",
              " 'lóigiáca',\n",
              " 'lóigiâca',\n",
              " 'lóigiãca',\n",
              " 'lóigièca',\n",
              " 'lóigiéca',\n",
              " 'lóigiêca',\n",
              " 'lóigiìca',\n",
              " 'lóigiíca',\n",
              " 'lóigiîca',\n",
              " 'lóigiòca',\n",
              " 'lóigióca',\n",
              " 'lóigiôca',\n",
              " 'lóigiõca',\n",
              " 'lóigiùca',\n",
              " 'lóigiúca',\n",
              " 'lóigiûca',\n",
              " 'lóigiçca',\n",
              " 'lóigicaa',\n",
              " 'lóigicba',\n",
              " 'lóigicca',\n",
              " 'lóigicda',\n",
              " 'lóigicea',\n",
              " 'lóigicfa',\n",
              " 'lóigicga',\n",
              " 'lóigicha',\n",
              " 'lóigicia',\n",
              " 'lóigicja',\n",
              " 'lóigicka',\n",
              " 'lóigicla',\n",
              " 'lóigicma',\n",
              " 'lóigicna',\n",
              " 'lóigicoa',\n",
              " 'lóigicpa',\n",
              " 'lóigicqa',\n",
              " 'lóigicra',\n",
              " 'lóigicsa',\n",
              " 'lóigicta',\n",
              " 'lóigicua',\n",
              " 'lóigicva',\n",
              " 'lóigicwa',\n",
              " 'lóigicxa',\n",
              " 'lóigicya',\n",
              " 'lóigicza',\n",
              " 'lóigicàa',\n",
              " 'lóigicáa',\n",
              " 'lóigicâa',\n",
              " 'lóigicãa',\n",
              " 'lóigicèa',\n",
              " 'lóigicéa',\n",
              " 'lóigicêa',\n",
              " 'lóigicìa',\n",
              " 'lóigicía',\n",
              " 'lóigicîa',\n",
              " 'lóigicòa',\n",
              " 'lóigicóa',\n",
              " 'lóigicôa',\n",
              " 'lóigicõa',\n",
              " 'lóigicùa',\n",
              " 'lóigicúa',\n",
              " 'lóigicûa',\n",
              " 'lóigicça',\n",
              " 'lóigicaa',\n",
              " 'lóigicab',\n",
              " 'lóigicac',\n",
              " 'lóigicad',\n",
              " 'lóigicae',\n",
              " 'lóigicaf',\n",
              " 'lóigicag',\n",
              " 'lóigicah',\n",
              " 'lóigicai',\n",
              " 'lóigicaj',\n",
              " 'lóigicak',\n",
              " 'lóigical',\n",
              " 'lóigicam',\n",
              " 'lóigican',\n",
              " 'lóigicao',\n",
              " 'lóigicap',\n",
              " 'lóigicaq',\n",
              " 'lóigicar',\n",
              " 'lóigicas',\n",
              " 'lóigicat',\n",
              " 'lóigicau',\n",
              " 'lóigicav',\n",
              " 'lóigicaw',\n",
              " 'lóigicax',\n",
              " 'lóigicay',\n",
              " 'lóigicaz',\n",
              " 'lóigicaà',\n",
              " 'lóigicaá',\n",
              " 'lóigicaâ',\n",
              " 'lóigicaã',\n",
              " 'lóigicaè',\n",
              " 'lóigicaé',\n",
              " 'lóigicaê',\n",
              " 'lóigicaì',\n",
              " 'lóigicaí',\n",
              " 'lóigicaî',\n",
              " 'lóigicaò',\n",
              " 'lóigicaó',\n",
              " 'lóigicaô',\n",
              " 'lóigicaõ',\n",
              " 'lóigicaù',\n",
              " 'lóigicaú',\n",
              " 'lóigicaû',\n",
              " 'lóigicaç']"
            ]
          },
          "metadata": {},
          "execution_count": 86
        }
      ]
    },
    {
      "cell_type": "code",
      "metadata": {
        "colab": {
          "base_uri": "https://localhost:8080/",
          "height": 35
        },
        "id": "lmEqLM9UGzRT",
        "outputId": "6af6afb8-30cd-4d9a-caf7-c56cfdcd07d2"
      },
      "source": [
        "corretor(\"lóigica\")"
      ],
      "execution_count": null,
      "outputs": [
        {
          "output_type": "execute_result",
          "data": {
            "application/vnd.google.colaboratory.intrinsic+json": {
              "type": "string"
            },
            "text/plain": [
              "'alóigica'"
            ]
          },
          "metadata": {},
          "execution_count": 87
        }
      ]
    },
    {
      "cell_type": "code",
      "metadata": {
        "id": "NXQ92q_4-3Nx"
      },
      "source": [
        "def deletando_caracteres(fatias):\n",
        "    novas_palavras = []\n",
        "    for E, D in fatias:\n",
        "        novas_palavras.append(E + D[1:])\n",
        "    return novas_palavras"
      ],
      "execution_count": null,
      "outputs": []
    },
    {
      "cell_type": "code",
      "metadata": {
        "colab": {
          "base_uri": "https://localhost:8080/"
        },
        "id": "NO3U7HFOHLdC",
        "outputId": "d531d7e2-b59a-45e6-8359-5fed4fe9d613"
      },
      "source": [
        "def gerador_palavras(palavra):\n",
        "    fatias = []\n",
        "    for i in range(len(palavra)+1):\n",
        "        fatias.append((palavra[:i],palavra[i:]))\n",
        "    palavras_geradas = insere_letras(fatias)\n",
        "    palavras_geradas += deletando_caracteres(fatias)\n",
        "    return palavras_geradas\n",
        "    \n",
        "palavra_exemplo = \"lóigica\"\n",
        "palavras_geradas = gerador_palavras(palavra_exemplo)\n",
        "print(palavras_geradas)"
      ],
      "execution_count": null,
      "outputs": [
        {
          "output_type": "stream",
          "name": "stdout",
          "text": [
            "['alóigica', 'blóigica', 'clóigica', 'dlóigica', 'elóigica', 'flóigica', 'glóigica', 'hlóigica', 'ilóigica', 'jlóigica', 'klóigica', 'llóigica', 'mlóigica', 'nlóigica', 'olóigica', 'plóigica', 'qlóigica', 'rlóigica', 'slóigica', 'tlóigica', 'ulóigica', 'vlóigica', 'wlóigica', 'xlóigica', 'ylóigica', 'zlóigica', 'àlóigica', 'álóigica', 'âlóigica', 'ãlóigica', 'èlóigica', 'élóigica', 'êlóigica', 'ìlóigica', 'ílóigica', 'îlóigica', 'òlóigica', 'ólóigica', 'ôlóigica', 'õlóigica', 'ùlóigica', 'úlóigica', 'ûlóigica', 'çlóigica', 'laóigica', 'lbóigica', 'lcóigica', 'ldóigica', 'leóigica', 'lfóigica', 'lgóigica', 'lhóigica', 'lióigica', 'ljóigica', 'lkóigica', 'llóigica', 'lmóigica', 'lnóigica', 'loóigica', 'lpóigica', 'lqóigica', 'lróigica', 'lsóigica', 'ltóigica', 'luóigica', 'lvóigica', 'lwóigica', 'lxóigica', 'lyóigica', 'lzóigica', 'làóigica', 'láóigica', 'lâóigica', 'lãóigica', 'lèóigica', 'léóigica', 'lêóigica', 'lìóigica', 'líóigica', 'lîóigica', 'lòóigica', 'lóóigica', 'lôóigica', 'lõóigica', 'lùóigica', 'lúóigica', 'lûóigica', 'lçóigica', 'lóaigica', 'lóbigica', 'lócigica', 'lódigica', 'lóeigica', 'lófigica', 'lógigica', 'lóhigica', 'lóiigica', 'lójigica', 'lókigica', 'lóligica', 'lómigica', 'lónigica', 'lóoigica', 'lópigica', 'lóqigica', 'lórigica', 'lósigica', 'lótigica', 'lóuigica', 'lóvigica', 'lówigica', 'lóxigica', 'lóyigica', 'lózigica', 'lóàigica', 'lóáigica', 'lóâigica', 'lóãigica', 'lóèigica', 'lóéigica', 'lóêigica', 'lóìigica', 'lóíigica', 'lóîigica', 'lóòigica', 'lóóigica', 'lóôigica', 'lóõigica', 'lóùigica', 'lóúigica', 'lóûigica', 'lóçigica', 'lóiagica', 'lóibgica', 'lóicgica', 'lóidgica', 'lóiegica', 'lóifgica', 'lóiggica', 'lóihgica', 'lóiigica', 'lóijgica', 'lóikgica', 'lóilgica', 'lóimgica', 'lóingica', 'lóiogica', 'lóipgica', 'lóiqgica', 'lóirgica', 'lóisgica', 'lóitgica', 'lóiugica', 'lóivgica', 'lóiwgica', 'lóixgica', 'lóiygica', 'lóizgica', 'lóiàgica', 'lóiágica', 'lóiâgica', 'lóiãgica', 'lóiègica', 'lóiégica', 'lóiêgica', 'lóiìgica', 'lóiígica', 'lóiîgica', 'lóiògica', 'lóiógica', 'lóiôgica', 'lóiõgica', 'lóiùgica', 'lóiúgica', 'lóiûgica', 'lóiçgica', 'lóigaica', 'lóigbica', 'lóigcica', 'lóigdica', 'lóigeica', 'lóigfica', 'lóiggica', 'lóighica', 'lóigiica', 'lóigjica', 'lóigkica', 'lóiglica', 'lóigmica', 'lóignica', 'lóigoica', 'lóigpica', 'lóigqica', 'lóigrica', 'lóigsica', 'lóigtica', 'lóiguica', 'lóigvica', 'lóigwica', 'lóigxica', 'lóigyica', 'lóigzica', 'lóigàica', 'lóigáica', 'lóigâica', 'lóigãica', 'lóigèica', 'lóigéica', 'lóigêica', 'lóigìica', 'lóigíica', 'lóigîica', 'lóigòica', 'lóigóica', 'lóigôica', 'lóigõica', 'lóigùica', 'lóigúica', 'lóigûica', 'lóigçica', 'lóigiaca', 'lóigibca', 'lóigicca', 'lóigidca', 'lóigieca', 'lóigifca', 'lóigigca', 'lóigihca', 'lóigiica', 'lóigijca', 'lóigikca', 'lóigilca', 'lóigimca', 'lóiginca', 'lóigioca', 'lóigipca', 'lóigiqca', 'lóigirca', 'lóigisca', 'lóigitca', 'lóigiuca', 'lóigivca', 'lóigiwca', 'lóigixca', 'lóigiyca', 'lóigizca', 'lóigiàca', 'lóigiáca', 'lóigiâca', 'lóigiãca', 'lóigièca', 'lóigiéca', 'lóigiêca', 'lóigiìca', 'lóigiíca', 'lóigiîca', 'lóigiòca', 'lóigióca', 'lóigiôca', 'lóigiõca', 'lóigiùca', 'lóigiúca', 'lóigiûca', 'lóigiçca', 'lóigicaa', 'lóigicba', 'lóigicca', 'lóigicda', 'lóigicea', 'lóigicfa', 'lóigicga', 'lóigicha', 'lóigicia', 'lóigicja', 'lóigicka', 'lóigicla', 'lóigicma', 'lóigicna', 'lóigicoa', 'lóigicpa', 'lóigicqa', 'lóigicra', 'lóigicsa', 'lóigicta', 'lóigicua', 'lóigicva', 'lóigicwa', 'lóigicxa', 'lóigicya', 'lóigicza', 'lóigicàa', 'lóigicáa', 'lóigicâa', 'lóigicãa', 'lóigicèa', 'lóigicéa', 'lóigicêa', 'lóigicìa', 'lóigicía', 'lóigicîa', 'lóigicòa', 'lóigicóa', 'lóigicôa', 'lóigicõa', 'lóigicùa', 'lóigicúa', 'lóigicûa', 'lóigicça', 'lóigicaa', 'lóigicab', 'lóigicac', 'lóigicad', 'lóigicae', 'lóigicaf', 'lóigicag', 'lóigicah', 'lóigicai', 'lóigicaj', 'lóigicak', 'lóigical', 'lóigicam', 'lóigican', 'lóigicao', 'lóigicap', 'lóigicaq', 'lóigicar', 'lóigicas', 'lóigicat', 'lóigicau', 'lóigicav', 'lóigicaw', 'lóigicax', 'lóigicay', 'lóigicaz', 'lóigicaà', 'lóigicaá', 'lóigicaâ', 'lóigicaã', 'lóigicaè', 'lóigicaé', 'lóigicaê', 'lóigicaì', 'lóigicaí', 'lóigicaî', 'lóigicaò', 'lóigicaó', 'lóigicaô', 'lóigicaõ', 'lóigicaù', 'lóigicaú', 'lóigicaû', 'lóigicaç', 'óigica', 'ligica', 'lógica', 'lóiica', 'lóigca', 'lóigia', 'lóigic', 'lóigica']\n"
          ]
        }
      ]
    },
    {
      "cell_type": "code",
      "metadata": {
        "colab": {
          "base_uri": "https://localhost:8080/"
        },
        "id": "cJDSwyUSOgdl",
        "outputId": "72c5bc0f-0312-4eb4-acac-b287f8e4e7f2"
      },
      "source": [
        "avaliador(lista_teste)\n"
      ],
      "execution_count": null,
      "outputs": [
        {
          "output_type": "stream",
          "name": "stdout",
          "text": [
            "41.4% de 186 palavras\n"
          ]
        }
      ]
    },
    {
      "cell_type": "code",
      "metadata": {
        "id": "bqYjg6f9PInl",
        "colab": {
          "base_uri": "https://localhost:8080/"
        },
        "outputId": "b4caeb12-65fd-4564-b0c6-780e48ad6519"
      },
      "source": [
        "def insere_letras(fatias):\n",
        "    novas_palavras = []\n",
        "    letras = 'abcdefghijklmnopqrstuvwxyzàáâãèéêìíîòóôõùúûç'\n",
        "    for E, D in fatias:\n",
        "        for letra in letras:\n",
        "            novas_palavras.append(E + letra + D)\n",
        "    return novas_palavras\n",
        "\n",
        "def deletando_caracteres(fatias):\n",
        "    novas_palavras = []\n",
        "    for E, D in fatias:\n",
        "        novas_palavras.append(E + D[1:])\n",
        "    return novas_palavras\n",
        "\n",
        "def troca_letra(fatias):\n",
        "    novas_palavras = []\n",
        "    letras = 'abcdefghijklmnopqrstuvwxyzáàãâéèêíìóòõôúùûç'\n",
        "    for E, D in fatias:\n",
        "        for letra in letras:\n",
        "            novas_palavras.append(E + letra + D[1:])\n",
        "    return novas_palavras\n",
        "\n",
        "def inverte_letra(fatias):\n",
        "    novas_palavras = []\n",
        "    for E, D in fatias:\n",
        "        if len(D) > 1:\n",
        "            novas_palavras.append(E + D[1] + D[0] + D[2:])\n",
        "    return novas_palavras\n",
        "\n",
        "def gerador_palavras(palavra):\n",
        "    fatias = []\n",
        "    for i in range(len(palavra)+1):\n",
        "        fatias.append((palavra[:i],palavra[i:]))\n",
        "    palavras_geradas = insere_letras(fatias)\n",
        "    palavras_geradas += deletando_caracteres(fatias)\n",
        "    palavras_geradas += troca_letra(fatias)\n",
        "    palavras_geradas += inverte_letra(fatias)\n",
        "    return palavras_geradas\n",
        "\n",
        "palavra_exemplo = \"lgóica\"\n",
        "palavras_geradas = gerador_palavras(palavra_exemplo)\n",
        "print(palavras_geradas)"
      ],
      "execution_count": null,
      "outputs": [
        {
          "output_type": "stream",
          "name": "stdout",
          "text": [
            "['algóica', 'blgóica', 'clgóica', 'dlgóica', 'elgóica', 'flgóica', 'glgóica', 'hlgóica', 'ilgóica', 'jlgóica', 'klgóica', 'llgóica', 'mlgóica', 'nlgóica', 'olgóica', 'plgóica', 'qlgóica', 'rlgóica', 'slgóica', 'tlgóica', 'ulgóica', 'vlgóica', 'wlgóica', 'xlgóica', 'ylgóica', 'zlgóica', 'àlgóica', 'álgóica', 'âlgóica', 'ãlgóica', 'èlgóica', 'élgóica', 'êlgóica', 'ìlgóica', 'ílgóica', 'îlgóica', 'òlgóica', 'ólgóica', 'ôlgóica', 'õlgóica', 'ùlgóica', 'úlgóica', 'ûlgóica', 'çlgóica', 'lagóica', 'lbgóica', 'lcgóica', 'ldgóica', 'legóica', 'lfgóica', 'lggóica', 'lhgóica', 'ligóica', 'ljgóica', 'lkgóica', 'llgóica', 'lmgóica', 'lngóica', 'logóica', 'lpgóica', 'lqgóica', 'lrgóica', 'lsgóica', 'ltgóica', 'lugóica', 'lvgóica', 'lwgóica', 'lxgóica', 'lygóica', 'lzgóica', 'làgóica', 'lágóica', 'lâgóica', 'lãgóica', 'lègóica', 'légóica', 'lêgóica', 'lìgóica', 'lígóica', 'lîgóica', 'lògóica', 'lógóica', 'lôgóica', 'lõgóica', 'lùgóica', 'lúgóica', 'lûgóica', 'lçgóica', 'lgaóica', 'lgbóica', 'lgcóica', 'lgdóica', 'lgeóica', 'lgfóica', 'lggóica', 'lghóica', 'lgióica', 'lgjóica', 'lgkóica', 'lglóica', 'lgmóica', 'lgnóica', 'lgoóica', 'lgpóica', 'lgqóica', 'lgróica', 'lgsóica', 'lgtóica', 'lguóica', 'lgvóica', 'lgwóica', 'lgxóica', 'lgyóica', 'lgzóica', 'lgàóica', 'lgáóica', 'lgâóica', 'lgãóica', 'lgèóica', 'lgéóica', 'lgêóica', 'lgìóica', 'lgíóica', 'lgîóica', 'lgòóica', 'lgóóica', 'lgôóica', 'lgõóica', 'lgùóica', 'lgúóica', 'lgûóica', 'lgçóica', 'lgóaica', 'lgóbica', 'lgócica', 'lgódica', 'lgóeica', 'lgófica', 'lgógica', 'lgóhica', 'lgóiica', 'lgójica', 'lgókica', 'lgólica', 'lgómica', 'lgónica', 'lgóoica', 'lgópica', 'lgóqica', 'lgórica', 'lgósica', 'lgótica', 'lgóuica', 'lgóvica', 'lgówica', 'lgóxica', 'lgóyica', 'lgózica', 'lgóàica', 'lgóáica', 'lgóâica', 'lgóãica', 'lgóèica', 'lgóéica', 'lgóêica', 'lgóìica', 'lgóíica', 'lgóîica', 'lgóòica', 'lgóóica', 'lgóôica', 'lgóõica', 'lgóùica', 'lgóúica', 'lgóûica', 'lgóçica', 'lgóiaca', 'lgóibca', 'lgóicca', 'lgóidca', 'lgóieca', 'lgóifca', 'lgóigca', 'lgóihca', 'lgóiica', 'lgóijca', 'lgóikca', 'lgóilca', 'lgóimca', 'lgóinca', 'lgóioca', 'lgóipca', 'lgóiqca', 'lgóirca', 'lgóisca', 'lgóitca', 'lgóiuca', 'lgóivca', 'lgóiwca', 'lgóixca', 'lgóiyca', 'lgóizca', 'lgóiàca', 'lgóiáca', 'lgóiâca', 'lgóiãca', 'lgóièca', 'lgóiéca', 'lgóiêca', 'lgóiìca', 'lgóiíca', 'lgóiîca', 'lgóiòca', 'lgóióca', 'lgóiôca', 'lgóiõca', 'lgóiùca', 'lgóiúca', 'lgóiûca', 'lgóiçca', 'lgóicaa', 'lgóicba', 'lgóicca', 'lgóicda', 'lgóicea', 'lgóicfa', 'lgóicga', 'lgóicha', 'lgóicia', 'lgóicja', 'lgóicka', 'lgóicla', 'lgóicma', 'lgóicna', 'lgóicoa', 'lgóicpa', 'lgóicqa', 'lgóicra', 'lgóicsa', 'lgóicta', 'lgóicua', 'lgóicva', 'lgóicwa', 'lgóicxa', 'lgóicya', 'lgóicza', 'lgóicàa', 'lgóicáa', 'lgóicâa', 'lgóicãa', 'lgóicèa', 'lgóicéa', 'lgóicêa', 'lgóicìa', 'lgóicía', 'lgóicîa', 'lgóicòa', 'lgóicóa', 'lgóicôa', 'lgóicõa', 'lgóicùa', 'lgóicúa', 'lgóicûa', 'lgóicça', 'lgóicaa', 'lgóicab', 'lgóicac', 'lgóicad', 'lgóicae', 'lgóicaf', 'lgóicag', 'lgóicah', 'lgóicai', 'lgóicaj', 'lgóicak', 'lgóical', 'lgóicam', 'lgóican', 'lgóicao', 'lgóicap', 'lgóicaq', 'lgóicar', 'lgóicas', 'lgóicat', 'lgóicau', 'lgóicav', 'lgóicaw', 'lgóicax', 'lgóicay', 'lgóicaz', 'lgóicaà', 'lgóicaá', 'lgóicaâ', 'lgóicaã', 'lgóicaè', 'lgóicaé', 'lgóicaê', 'lgóicaì', 'lgóicaí', 'lgóicaî', 'lgóicaò', 'lgóicaó', 'lgóicaô', 'lgóicaõ', 'lgóicaù', 'lgóicaú', 'lgóicaû', 'lgóicaç', 'góica', 'lóica', 'lgica', 'lgóca', 'lgóia', 'lgóic', 'lgóica', 'agóica', 'bgóica', 'cgóica', 'dgóica', 'egóica', 'fgóica', 'ggóica', 'hgóica', 'igóica', 'jgóica', 'kgóica', 'lgóica', 'mgóica', 'ngóica', 'ogóica', 'pgóica', 'qgóica', 'rgóica', 'sgóica', 'tgóica', 'ugóica', 'vgóica', 'wgóica', 'xgóica', 'ygóica', 'zgóica', 'ágóica', 'àgóica', 'ãgóica', 'âgóica', 'égóica', 'ègóica', 'êgóica', 'ígóica', 'ìgóica', 'ógóica', 'ògóica', 'õgóica', 'ôgóica', 'úgóica', 'ùgóica', 'ûgóica', 'çgóica', 'laóica', 'lbóica', 'lcóica', 'ldóica', 'leóica', 'lfóica', 'lgóica', 'lhóica', 'lióica', 'ljóica', 'lkóica', 'llóica', 'lmóica', 'lnóica', 'loóica', 'lpóica', 'lqóica', 'lróica', 'lsóica', 'ltóica', 'luóica', 'lvóica', 'lwóica', 'lxóica', 'lyóica', 'lzóica', 'láóica', 'làóica', 'lãóica', 'lâóica', 'léóica', 'lèóica', 'lêóica', 'líóica', 'lìóica', 'lóóica', 'lòóica', 'lõóica', 'lôóica', 'lúóica', 'lùóica', 'lûóica', 'lçóica', 'lgaica', 'lgbica', 'lgcica', 'lgdica', 'lgeica', 'lgfica', 'lggica', 'lghica', 'lgiica', 'lgjica', 'lgkica', 'lglica', 'lgmica', 'lgnica', 'lgoica', 'lgpica', 'lgqica', 'lgrica', 'lgsica', 'lgtica', 'lguica', 'lgvica', 'lgwica', 'lgxica', 'lgyica', 'lgzica', 'lgáica', 'lgàica', 'lgãica', 'lgâica', 'lgéica', 'lgèica', 'lgêica', 'lgíica', 'lgìica', 'lgóica', 'lgòica', 'lgõica', 'lgôica', 'lgúica', 'lgùica', 'lgûica', 'lgçica', 'lgóaca', 'lgóbca', 'lgócca', 'lgódca', 'lgóeca', 'lgófca', 'lgógca', 'lgóhca', 'lgóica', 'lgójca', 'lgókca', 'lgólca', 'lgómca', 'lgónca', 'lgóoca', 'lgópca', 'lgóqca', 'lgórca', 'lgósca', 'lgótca', 'lgóuca', 'lgóvca', 'lgówca', 'lgóxca', 'lgóyca', 'lgózca', 'lgóáca', 'lgóàca', 'lgóãca', 'lgóâca', 'lgóéca', 'lgóèca', 'lgóêca', 'lgóíca', 'lgóìca', 'lgóóca', 'lgóòca', 'lgóõca', 'lgóôca', 'lgóúca', 'lgóùca', 'lgóûca', 'lgóçca', 'lgóiaa', 'lgóiba', 'lgóica', 'lgóida', 'lgóiea', 'lgóifa', 'lgóiga', 'lgóiha', 'lgóiia', 'lgóija', 'lgóika', 'lgóila', 'lgóima', 'lgóina', 'lgóioa', 'lgóipa', 'lgóiqa', 'lgóira', 'lgóisa', 'lgóita', 'lgóiua', 'lgóiva', 'lgóiwa', 'lgóixa', 'lgóiya', 'lgóiza', 'lgóiáa', 'lgóiàa', 'lgóiãa', 'lgóiâa', 'lgóiéa', 'lgóièa', 'lgóiêa', 'lgóiía', 'lgóiìa', 'lgóióa', 'lgóiòa', 'lgóiõa', 'lgóiôa', 'lgóiúa', 'lgóiùa', 'lgóiûa', 'lgóiça', 'lgóica', 'lgóicb', 'lgóicc', 'lgóicd', 'lgóice', 'lgóicf', 'lgóicg', 'lgóich', 'lgóici', 'lgóicj', 'lgóick', 'lgóicl', 'lgóicm', 'lgóicn', 'lgóico', 'lgóicp', 'lgóicq', 'lgóicr', 'lgóics', 'lgóict', 'lgóicu', 'lgóicv', 'lgóicw', 'lgóicx', 'lgóicy', 'lgóicz', 'lgóicá', 'lgóicà', 'lgóicã', 'lgóicâ', 'lgóicé', 'lgóicè', 'lgóicê', 'lgóicí', 'lgóicì', 'lgóicó', 'lgóicò', 'lgóicõ', 'lgóicô', 'lgóicú', 'lgóicù', 'lgóicû', 'lgóicç', 'lgóicaa', 'lgóicab', 'lgóicac', 'lgóicad', 'lgóicae', 'lgóicaf', 'lgóicag', 'lgóicah', 'lgóicai', 'lgóicaj', 'lgóicak', 'lgóical', 'lgóicam', 'lgóican', 'lgóicao', 'lgóicap', 'lgóicaq', 'lgóicar', 'lgóicas', 'lgóicat', 'lgóicau', 'lgóicav', 'lgóicaw', 'lgóicax', 'lgóicay', 'lgóicaz', 'lgóicaá', 'lgóicaà', 'lgóicaã', 'lgóicaâ', 'lgóicaé', 'lgóicaè', 'lgóicaê', 'lgóicaí', 'lgóicaì', 'lgóicaó', 'lgóicaò', 'lgóicaõ', 'lgóicaô', 'lgóicaú', 'lgóicaù', 'lgóicaû', 'lgóicaç', 'glóica', 'lógica', 'lgióca', 'lgócia', 'lgóiac']\n"
          ]
        }
      ]
    },
    {
      "cell_type": "code",
      "metadata": {
        "colab": {
          "base_uri": "https://localhost:8080/"
        },
        "id": "TyIVOl_axd02",
        "outputId": "6357f0c0-ddcc-43f8-9493-5f55e9a27dcb"
      },
      "source": [
        "avaliador(lista_teste)"
      ],
      "execution_count": null,
      "outputs": [
        {
          "output_type": "stream",
          "name": "stdout",
          "text": [
            "76.34% de 186 palavras\n"
          ]
        }
      ]
    },
    {
      "cell_type": "code",
      "metadata": {
        "colab": {
          "base_uri": "https://localhost:8080/"
        },
        "id": "UPLBdF6X0H96",
        "outputId": "005bd131-8ee0-4336-be1e-55ebe9e3d346"
      },
      "source": [
        "def avaliador(testes, vocabulario):\n",
        "    numero_palavras = len(testes)\n",
        "    acertou = 0\n",
        "    desconhecida = 0\n",
        "    for correta, errada in testes:\n",
        "        palavra_corrigida = corretor(errada)\n",
        "        if palavra_corrigida == correta:\n",
        "            acertou += 1\n",
        "        else:\n",
        "            desconhecida += (correta not in vocabulario)\n",
        "    taxa_acerto = round(acertou*100/numero_palavras, 2)\n",
        "    taxa_desconhecida = round(desconhecida*100/numero_palavras, 2)\n",
        "    print(f\"{taxa_acerto}% de {numero_palavras} palavras, desconhecidas é {taxa_desconhecida}%\")\n",
        "\n",
        "\n",
        "vocabulario = set(lista_normalizada)\n",
        "avaliador(lista_teste, vocabulario)"
      ],
      "execution_count": null,
      "outputs": [
        {
          "output_type": "stream",
          "name": "stdout",
          "text": [
            "76.34% de 186 palavras, desconhecidas é 6.99%\n"
          ]
        }
      ]
    },
    {
      "cell_type": "code",
      "metadata": {
        "colab": {
          "base_uri": "https://localhost:8080/"
        },
        "id": "OVou1g9f1W-Q",
        "outputId": "9399298f-4620-4efb-8279-5ca670407e26"
      },
      "source": [
        "palavra = \"lóiigica\"\n",
        "\n",
        "def gerador_turbinado(palavras_geradas):\n",
        "    novas_palavras = []\n",
        "    for palavra in palavras_geradas:\n",
        "        novas_palavras += gerador_palavras(palavra)\n",
        "    return novas_palavras\n",
        "\n",
        "palavras_g = gerador_turbinado(gerador_palavras(palavra))\n",
        "\"lógica\" in palavras_g"
      ],
      "execution_count": null,
      "outputs": [
        {
          "output_type": "execute_result",
          "data": {
            "text/plain": [
              "True"
            ]
          },
          "metadata": {},
          "execution_count": 94
        }
      ]
    },
    {
      "cell_type": "code",
      "metadata": {
        "colab": {
          "base_uri": "https://localhost:8080/"
        },
        "id": "3uP6ZJzn3Dwg",
        "outputId": "58066349-667b-4db0-8df2-00bd92765c6d"
      },
      "source": [
        "len(palavras_g)"
      ],
      "execution_count": null,
      "outputs": [
        {
          "output_type": "execute_result",
          "data": {
            "text/plain": [
              "676760"
            ]
          },
          "metadata": {},
          "execution_count": 95
        }
      ]
    },
    {
      "cell_type": "code",
      "metadata": {
        "colab": {
          "base_uri": "https://localhost:8080/",
          "height": 52
        },
        "id": "GD7eZ59R3S_O",
        "outputId": "26a82f9c-189b-40ce-abe2-9be184702802"
      },
      "source": [
        "def novo_corretor(palavra):\n",
        "    palavras_geradas = gerador_palavras(palavra)\n",
        "    palavras_turbinado = gerador_turbinado(palavras_geradas)\n",
        "    todas_palavras = set(palavras_geradas + palavras_turbinado)\n",
        "    candidatos = [palavra]\n",
        "    for palavra in todas_palavras:\n",
        "        if palavra in vocabulario:\n",
        "            candidatos.append(palavra)\n",
        "    print(len(candidatos))\n",
        "    palavra_correta = max(candidatos, key=probabilidade)\n",
        "    return palavra_correta\n",
        "\n",
        "novo_corretor(palavra)"
      ],
      "execution_count": null,
      "outputs": [
        {
          "output_type": "stream",
          "name": "stdout",
          "text": [
            "2\n"
          ]
        },
        {
          "output_type": "execute_result",
          "data": {
            "application/vnd.google.colaboratory.intrinsic+json": {
              "type": "string"
            },
            "text/plain": [
              "'lógica'"
            ]
          },
          "metadata": {},
          "execution_count": 99
        }
      ]
    },
    {
      "cell_type": "code",
      "metadata": {
        "colab": {
          "base_uri": "https://localhost:8080/"
        },
        "id": "NWnQ1XLc33QL",
        "outputId": "fa10c40f-bba4-425c-92db-1d42bbfea8dd"
      },
      "source": [
        "def avaliador(testes, vocabulario):\n",
        "    numero_palavras = len(testes)\n",
        "    acertou = 0\n",
        "    desconhecida = 0\n",
        "    for correta, errada in testes:\n",
        "        palavra_corrigida = novo_corretor(errada)\n",
        "        desconhecida += (correta not in vocabulario)\n",
        "        if palavra_corrigida == correta:\n",
        "            acertou += 1\n",
        "        else:\n",
        "            print(errada + \"-\" + corretor(errada) + \"-\" + palavra_corrigida)\n",
        "    taxa_acerto = round(acertou*100/numero_palavras, 2)\n",
        "    taxa_desconhecida = round(desconhecida*100/numero_palavras, 2)\n",
        "    print(f\"{taxa_acerto}% de {numero_palavras} palavras, desconhecidas {taxa_desconhecida}%\")\n",
        "\n",
        "vocabulario = set(lista_normalizada)\n",
        "avaliador(lista_teste, vocabulario)"
      ],
      "execution_count": null,
      "outputs": [
        {
          "output_type": "stream",
          "name": "stdout",
          "text": [
            "5\n",
            "33\n",
            "esje-esse-se\n",
            "69\n",
            "7\n",
            "21\n",
            "sãêo-são-não\n",
            "117\n",
            "dosa-dos-do\n",
            "12\n",
            "4\n",
            "26\n",
            "4\n",
            "135\n",
            "eme-em-de\n",
            "18\n",
            "21\n",
            "11\n",
            "eàssa-essa-esse\n",
            "8\n",
            "14\n",
            "8\n",
            "19\n",
            "55\n",
            "daõs-das-da\n",
            "5\n",
            "8\n",
            "48\n",
            "céda-cada-da\n",
            "5\n",
            "102\n",
            "noâ-no-o\n",
            "30\n",
            "12\n",
            "9\n",
            "enêão-então-não\n",
            "24\n",
            "10\n",
            "26\n",
            "3\n",
            "41\n",
            "tĩem-tem-em\n",
            "4\n",
            "14\n",
            "3\n",
            "9\n",
            "nossah-nossa-nosso\n",
            "4\n",
            "6\n",
            "130\n",
            "teb-tem-de\n",
            "94\n",
            "atĩ-até-a\n",
            "123\n",
            "âem-em-de\n",
            "5\n",
            "6\n",
            "171\n",
            "foo-foi-o\n",
            "5\n",
            "6\n",
            "4\n",
            "83\n",
            "serr-ser-se\n",
            "17\n",
            "entke-entre-então\n",
            "4\n",
            "5\n",
            "15\n",
            "163\n",
            "van-vai-a\n",
            "5\n",
            "33\n",
            "çeus-seus-seu\n",
            "239\n",
            "eû-e-de\n",
            "14\n",
            "32\n",
            "temeo-tempo-temos\n",
            "32\n",
            "semre-sempre-ser\n",
            "7\n",
            "40\n",
            "elaá-ela-ele\n",
            "54\n",
            "síó-só-se\n",
            "6\n",
            "5\n",
            "47\n",
            "siàe-site-se\n",
            "54\n",
            "seém-sem-em\n",
            "58\n",
            "peln-pelo-ele\n",
            "23\n",
            "aléra-alura-agora\n",
            "68\n",
            "tdia-dia-da\n",
            "37\n",
            "4\n",
            "13\n",
            "188\n",
            "jé-é-de\n",
            "7\n",
            "60\n",
            "sãô-são-não\n",
            "73\n",
            "odos-dos-do\n",
            "40\n",
            "4\n",
            "92\n",
            "siua-sua-seu\n",
            "4\n",
            "36\n",
            "elpe-ele-esse\n",
            "6\n",
            "102\n",
            "teos-temos-os\n",
            "30\n",
            "eũsa-essa-esse\n",
            "8\n",
            "21\n",
            "vjmos-vamos-temos\n",
            "10\n",
            "17\n",
            "145\n",
            "dms-dos-de\n",
            "11\n",
            "4\n",
            "119\n",
            "cava-java-para\n",
            "27\n",
            "43\n",
            "ános-nos-no\n",
            "38\n",
            "16\n",
            "3\n",
            "12\n",
            "6\n",
            "67\n",
            "èaso-caso-as\n",
            "3\n",
            "41\n",
            "túem-tem-em\n",
            "4\n",
            "34\n",
            "daáos-dados-dos\n",
            "3\n",
            "17\n",
            "nossk-nosso-nosso\n",
            "4\n",
            "2\n",
            "32\n",
            "tãer-ter-ser\n",
            "65\n",
            "vté-até-é\n",
            "63\n",
            "búm-bem-um\n",
            "4\n",
            "6\n",
            "10\n",
            "2\n",
            "7\n",
            "4\n",
            "9\n",
            "sçerá-será-ser\n",
            "17\n",
            "entró-entre-então\n",
            "6\n",
            "5\n",
            "18\n",
            "178\n",
            "uai-vai-a\n",
            "5\n",
            "29\n",
            "sâus-seus-seu\n",
            "93\n",
            "ìeu-seu-de\n",
            "10\n",
            "4\n",
            "4\n",
            "58\n",
            "fual-qual-sua\n",
            "52\n",
            "elal-ela-ele\n",
            "55\n",
            "skó-só-se\n",
            "5\n",
            "5\n",
            "26\n",
            "62\n",
            "secm-sem-em\n",
            "42\n",
            "23\n",
            "aluéa-alura-além\n",
            "146\n",
            "dil-dia-de\n",
            "22\n",
            "16\n",
            "86\n",
            "sód-só-se\n",
            "2\n",
            "2\n",
            "3\n",
            "12\n",
            "9\n",
            "2\n",
            "34\n",
            "2\n",
            "18\n",
            "eúaa-aeúaa-essa\n",
            "208\n",
            "ró-só-de\n",
            "2\n",
            "3\n",
            "4\n",
            "4\n",
            "5\n",
            "4\n",
            "23\n",
            "dĩaz-adĩaz-da\n",
            "5\n",
            "4\n",
            "correptor-corretor-correto\n",
            "12\n",
            "trtica-tática-prática\n",
            "1\n",
            "ewpoderamento-aewpoderamento-ewpoderamento\n",
            "6\n",
            "3\n",
            "13\n",
            "îgato-gato-fato\n",
            "2\n",
            "cakvalo-acakvalo-carvalho\n",
            "4\n",
            "6\n",
            "canelac-acanelac-janela\n",
            "1\n",
            "tênisy-atênisy-tênisy\n",
            "4\n",
            "anciosa-aanciosa-ansioso\n",
            "1\n",
            "ancciosa-aancciosa-ancciosa\n",
            "9\n",
            "ansioa-aansioa-antiga\n",
            "1\n",
            "1\n",
            "asterístico-aasterístico-asterístico\n",
            "5\n",
            "3\n",
            "entertido-aentertido-entendido\n",
            "5\n",
            "ritimo-ritmo-ótimo\n",
            "5\n",
            "indiota-aindiota-indica\n",
            "15\n",
            "tomare-tomar-tomar\n",
            "70\n",
            "seje-seja-se\n",
            "3\n",
            "provalecer-aprovalecer-prevalece\n",
            "13\n",
            "esteje-esteja-este\n",
            "3\n",
            "mindigo-amindigo-indico\n",
            "2\n",
            "2\n",
            "pertubar-apertubar-derrubar\n",
            "55.91% de 186 palavras, desconhecidas 6.99%\n"
          ]
        }
      ]
    },
    {
      "cell_type": "code",
      "metadata": {
        "colab": {
          "base_uri": "https://localhost:8080/"
        },
        "id": "iYJtPktD5Nqr",
        "outputId": "5da724f8-12c9-4ccc-97ee-f93b7cb2aeb9"
      },
      "source": [
        "def avaliador(testes, vocabulario):\n",
        "    numero_palavras = len(testes)\n",
        "    acertou = 0\n",
        "    desconhecida = 0\n",
        "    for correta, errada in testes:\n",
        "        palavra_corrigida = corretor(errada)\n",
        "        desconhecida += (correta not in vocabulario)\n",
        "        if palavra_corrigida == correta:\n",
        "            acertou += 1\n",
        "    taxa_acerto = round(acertou*100/numero_palavras, 2)\n",
        "    taxa_desconhecida = round(desconhecida*100/numero_palavras, 2)\n",
        "    print(f\"{taxa_acerto}% de {numero_palavras} palavras, desconhecidas {taxa_desconhecida}%\")\n",
        "\n",
        "vocabulario = set(lista_normalizada)\n",
        "avaliador(lista_teste, vocabulario)"
      ],
      "execution_count": null,
      "outputs": [
        {
          "output_type": "stream",
          "name": "stdout",
          "text": [
            "76.34% de 186 palavras, desconhecidas 6.99%\n"
          ]
        }
      ]
    },
    {
      "cell_type": "code",
      "metadata": {
        "colab": {
          "base_uri": "https://localhost:8080/"
        },
        "id": "JtbWUO1e76EY",
        "outputId": "730e594d-0310-4dae-83bd-ed1b6af9711a"
      },
      "source": [
        "palavra = \"lgica\"\n",
        "print(novo_corretor(palavra))\n",
        "print(corretor(palavra))"
      ],
      "execution_count": null,
      "outputs": [
        {
          "output_type": "stream",
          "name": "stdout",
          "text": [
            "21\n",
            "fica\n",
            "lógica\n"
          ]
        }
      ]
    },
    {
      "cell_type": "code",
      "metadata": {
        "id": "JuGY_NVd788I"
      },
      "source": [
        ""
      ],
      "execution_count": null,
      "outputs": []
    }
  ]
}